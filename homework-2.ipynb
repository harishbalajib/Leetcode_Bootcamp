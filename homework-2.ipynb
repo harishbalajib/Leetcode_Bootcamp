{
 "cells": [
  {
   "cell_type": "markdown",
   "metadata": {},
   "source": [
    "**8. String to Integer (atoi)**"
   ]
  },
  {
   "cell_type": "code",
   "execution_count": null,
   "metadata": {},
   "outputs": [],
   "source": [
    "class Solution:\n",
    "    def myAtoi(self,s: str) -> int:\n",
    "        s = s.lstrip()  \n",
    "        if not s:\n",
    "            return 0\n",
    "\n",
    "        sign = 1\n",
    "        index = 0\n",
    "        if s[0] in ('-', '+'): \n",
    "            sign = -1 if s[0] == '-' else 1\n",
    "            index += 1\n",
    "\n",
    "        result = 0\n",
    "        while index < len(s) and s[index].isdigit():\n",
    "            result = result * 10 + int(s[index])\n",
    "            index += 1\n",
    "\n",
    "        result *= sign\n",
    "\n",
    "    \n",
    "        int_min, int_max = -2**31, 2**31 - 1\n",
    "        if result < int_min:\n",
    "            return int_min\n",
    "        if result > int_max:\n",
    "            return int_max\n",
    "\n",
    "        return result\n"
   ]
  },
  {
   "cell_type": "markdown",
   "metadata": {},
   "source": [
    "**438. Find All Anagrams in a String**"
   ]
  },
  {
   "cell_type": "code",
   "execution_count": null,
   "metadata": {},
   "outputs": [],
   "source": [
    "\n",
    "class Solution:\n",
    "    def findAnagrams(self, s: str, p: str) -> List[int]:\n",
    "        if len(p) > len(s):\n",
    "            return []\n",
    "\n",
    "        p_count = Counter(p)  \n",
    "        s_count = Counter(s[:len(p) - 1])  \n",
    "        result = []\n",
    "\n",
    "        left = 0\n",
    "        for right in range(len(p) - 1, len(s)): \n",
    "            s_count[s[right]] += 1  \n",
    "            \n",
    "            if s_count == p_count: \n",
    "                result.append(left)\n",
    "\n",
    "            s_count[s[left]] -= 1  \n",
    "            if s_count[s[left]] == 0: \n",
    "                del s_count[s[left]]\n",
    "\n",
    "            left += 1  \n",
    "\n",
    "        return result\n"
   ]
  },
  {
   "cell_type": "markdown",
   "metadata": {},
   "source": [
    "**151. Reverse Words in a String**"
   ]
  },
  {
   "cell_type": "code",
   "execution_count": null,
   "metadata": {},
   "outputs": [],
   "source": [
    "class Solution:\n",
    "    def reverseWords(self, s: str) -> str:\n",
    "\n",
    "        reversed_words = s.split()[::-1]\n",
    "        return \" \".join(reversed_words)\n",
    "    \n",
    "     "
   ]
  }
 ],
 "metadata": {
  "kernelspec": {
   "display_name": "base",
   "language": "python",
   "name": "python3"
  },
  "language_info": {
   "codemirror_mode": {
    "name": "ipython",
    "version": 3
   },
   "file_extension": ".py",
   "mimetype": "text/x-python",
   "name": "python",
   "nbconvert_exporter": "python",
   "pygments_lexer": "ipython3",
   "version": "3.12.2"
  }
 },
 "nbformat": 4,
 "nbformat_minor": 2
}
