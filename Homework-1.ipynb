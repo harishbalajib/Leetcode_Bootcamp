{
 "cells": [
  {
   "cell_type": "markdown",
   "metadata": {},
   "source": [
    "**SORT COLORS**"
   ]
  },
  {
   "cell_type": "code",
   "execution_count": 2,
   "metadata": {},
   "outputs": [],
   "source": [
    "from typing import Optional,List\n",
    "\n",
    "class Solution:\n",
    "    def sortColors(self, nums: List[int]) -> None:\n",
    "   \n",
    "        count=[0]*3\n",
    "        for i in nums:\n",
    "            count[i]+=1\n",
    "        n=len(count)\n",
    "        i=0\n",
    "        for idx in range(n):\n",
    "            for _ in range(count[idx]):\n",
    "                nums[i]=idx\n",
    "                i+=1\n",
    "        \n",
    "\n",
    "        "
   ]
  },
  {
   "cell_type": "markdown",
   "metadata": {},
   "source": [
    "**PRODUCT OF ARRAY EXCEPT SELF**"
   ]
  },
  {
   "cell_type": "code",
   "execution_count": 3,
   "metadata": {},
   "outputs": [],
   "source": [
    "class Solution:\n",
    "    def productExceptSelf(self, nums: List[int]) -> List[int]:\n",
    "        n=len(nums)\n",
    "        product = [1]*n\n",
    "        left_product=1\n",
    "        right_product=1\n",
    "        \n",
    "        for i in range(n):\n",
    "            product[i]=left_product\n",
    "            left_product*=nums[i]\n",
    "            \n",
    "            \n",
    "        for i in range(n-1,-1,-1):\n",
    "            product[i]*=right_product\n",
    "            right_product*=nums[i]\n",
    "        \n",
    "        return product\n",
    "            \n"
   ]
  },
  {
   "cell_type": "markdown",
   "metadata": {},
   "source": [
    "**TWO SUM**"
   ]
  },
  {
   "cell_type": "code",
   "execution_count": 4,
   "metadata": {},
   "outputs": [],
   "source": [
    "class Solution:\n",
    "    def twoSum(self, numbers: List[int], target: int) -> List[int]:\n",
    "        left=0\n",
    "        right=len(numbers)-1\n",
    "        while left < right:\n",
    "            summation = numbers[left] + numbers[right]\n",
    "            if summation == target:\n",
    "                return [ left+1 , right+1 ]\n",
    "            elif summation < target:\n",
    "                left+=1\n",
    "            else:\n",
    "                right-=1\n",
    "        return None\n",
    "        "
   ]
  }
 ],
 "metadata": {
  "kernelspec": {
   "display_name": "base",
   "language": "python",
   "name": "python3"
  },
  "language_info": {
   "codemirror_mode": {
    "name": "ipython",
    "version": 3
   },
   "file_extension": ".py",
   "mimetype": "text/x-python",
   "name": "python",
   "nbconvert_exporter": "python",
   "pygments_lexer": "ipython3",
   "version": "3.12.4"
  }
 },
 "nbformat": 4,
 "nbformat_minor": 2
}
